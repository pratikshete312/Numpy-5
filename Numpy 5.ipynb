{
 "cells": [
  {
   "cell_type": "code",
   "execution_count": 4,
   "metadata": {},
   "outputs": [
    {
     "name": "stdout",
     "output_type": "stream",
     "text": [
      "10\n",
      "20\n",
      "30\n",
      "40\n",
      "50\n"
     ]
    }
   ],
   "source": [
    "import numpy as np\n",
    "i=np.array([10,20,30,40,50])\n",
    "for j in i:\n",
    "    print(j)"
   ]
  },
  {
   "cell_type": "code",
   "execution_count": 5,
   "metadata": {},
   "outputs": [
    {
     "name": "stdout",
     "output_type": "stream",
     "text": [
      "[10 20 30]\n",
      "[40 50 60]\n",
      "[70 80 90]\n"
     ]
    }
   ],
   "source": [
    "import numpy as np\n",
    "i = np.array([[10, 20, 30], [40, 50, 60], [70,80,90]])\n",
    "for j in i:\n",
    "    print(j)"
   ]
  },
  {
   "cell_type": "code",
   "execution_count": 9,
   "metadata": {},
   "outputs": [
    {
     "name": "stdout",
     "output_type": "stream",
     "text": [
      "10\n",
      "20\n",
      "30\n",
      "40\n",
      "50\n",
      "60\n",
      "70\n",
      "80\n",
      "90\n"
     ]
    }
   ],
   "source": [
    "import numpy as np\n",
    "\n",
    "i = np.array([[10, 20, 30], [40, 50, 60], [70,80,90]])\n",
    "\n",
    "for j in i:\n",
    "    for k in j:\n",
    "        print(k)"
   ]
  },
  {
   "cell_type": "code",
   "execution_count": 10,
   "metadata": {},
   "outputs": [
    {
     "name": "stdout",
     "output_type": "stream",
     "text": [
      "[[10 20 30]\n",
      " [40 50 60]\n",
      " [70 80 90]]\n",
      "[[1 2 3]\n",
      " [4 5 6]\n",
      " [7 8 9]]\n",
      "[[10 20 30]\n",
      " [40 50 60]\n",
      " [70 80 90]]\n"
     ]
    }
   ],
   "source": [
    "import numpy as np \n",
    "i = np.array([\n",
    " [[10, 20, 30], [40, 50, 60], [70,80,90]],\n",
    " [[1, 2, 3], [4, 5, 6], [7,8,9]],\n",
    " [[10, 20, 30], [40, 50, 60], [70,80,90]],\n",
    " ])\n",
    "for j in i :\n",
    "    print(j)"
   ]
  },
  {
   "cell_type": "code",
   "execution_count": 11,
   "metadata": {},
   "outputs": [
    {
     "name": "stdout",
     "output_type": "stream",
     "text": [
      "10\n",
      "20\n",
      "30\n",
      "40\n",
      "50\n",
      "60\n",
      "70\n",
      "80\n",
      "90\n",
      "1\n",
      "2\n",
      "3\n",
      "4\n",
      "5\n",
      "6\n",
      "7\n",
      "8\n",
      "9\n",
      "10\n",
      "20\n",
      "30\n",
      "40\n",
      "50\n",
      "60\n",
      "70\n",
      "80\n",
      "90\n"
     ]
    }
   ],
   "source": [
    "import numpy as np\n",
    "i = np.array([\n",
    " [[10, 20, 30], [40, 50, 60], [70,80,90]],\n",
    " [[1, 2, 3], [4, 5, 6], [7,8,9]],\n",
    " [[10, 20, 30], [40, 50, 60], [70,80,90]],\n",
    " ])\n",
    "for j in i:\n",
    "    for k in j:\n",
    "        for m in k:\n",
    "            print(m)\n",
    "        \n"
   ]
  },
  {
   "cell_type": "code",
   "execution_count": 14,
   "metadata": {},
   "outputs": [
    {
     "name": "stdout",
     "output_type": "stream",
     "text": [
      "3\n"
     ]
    }
   ],
   "source": [
    "from numpy import random\n",
    "i=random.randint(10)\n",
    "print(i)"
   ]
  },
  {
   "cell_type": "code",
   "execution_count": 16,
   "metadata": {},
   "outputs": [
    {
     "name": "stdout",
     "output_type": "stream",
     "text": [
      "0.9626464884772338\n"
     ]
    }
   ],
   "source": [
    "from numpy import random\n",
    "i=random.rand()\n",
    "print(i)"
   ]
  },
  {
   "cell_type": "code",
   "execution_count": 17,
   "metadata": {},
   "outputs": [
    {
     "name": "stdout",
     "output_type": "stream",
     "text": [
      "[0.39480814 0.46822344 0.50229306 0.37440565 0.98278911 0.36856599\n",
      " 0.60787012 0.25485301 0.96943015 0.57084993]\n"
     ]
    }
   ],
   "source": [
    "from numpy import random\n",
    "i=random.rand(10)\n",
    "print(i)"
   ]
  },
  {
   "cell_type": "code",
   "execution_count": 19,
   "metadata": {},
   "outputs": [
    {
     "name": "stdout",
     "output_type": "stream",
     "text": [
      "[96 15 34 27 39 65 24  0 19 84]\n"
     ]
    }
   ],
   "source": [
    "from numpy import random\n",
    "i=random.randint(100,size=(10))\n",
    "print(i)"
   ]
  },
  {
   "cell_type": "code",
   "execution_count": 20,
   "metadata": {},
   "outputs": [
    {
     "name": "stdout",
     "output_type": "stream",
     "text": [
      "[[ 7  4 61 40 22]\n",
      " [49  2 70 81 44]\n",
      " [ 1 69 91 25 51]]\n"
     ]
    }
   ],
   "source": [
    "from numpy import random\n",
    "i=random.randint(100,size=(3,5))\n",
    "print(i)"
   ]
  },
  {
   "cell_type": "code",
   "execution_count": 21,
   "metadata": {},
   "outputs": [
    {
     "name": "stdout",
     "output_type": "stream",
     "text": [
      "[[28 24 76 91 61]\n",
      " [28 92 60 23 72]\n",
      " [83 16 60 12 26]\n",
      " [69 37 72  2 46]\n",
      " [37 97 54 50 72]]\n"
     ]
    }
   ],
   "source": [
    "from numpy import random\n",
    "i=random.randint(100,size=(5,5))\n",
    "print(i)"
   ]
  },
  {
   "cell_type": "code",
   "execution_count": 24,
   "metadata": {},
   "outputs": [
    {
     "name": "stdout",
     "output_type": "stream",
     "text": [
      "[[[82 70]\n",
      "  [61  1]\n",
      "  [61 33]\n",
      "  [25 30]\n",
      "  [41 79]]\n",
      "\n",
      " [[79 89]\n",
      "  [75 34]\n",
      "  [33 10]\n",
      "  [32 80]\n",
      "  [67 73]]\n",
      "\n",
      " [[23 36]\n",
      "  [13 98]\n",
      "  [90 99]\n",
      "  [99 32]\n",
      "  [17  7]]]\n"
     ]
    }
   ],
   "source": [
    "from numpy import random\n",
    "i=random.randint(100,size=(3,5,2))\n",
    "print(i)\n"
   ]
  },
  {
   "cell_type": "code",
   "execution_count": 27,
   "metadata": {},
   "outputs": [
    {
     "name": "stdout",
     "output_type": "stream",
     "text": [
      "[[0.23563859 0.00695101 0.23838852 0.53959426 0.17896445]\n",
      " [0.73407515 0.77056173 0.96647935 0.64748527 0.23015327]\n",
      " [0.27203969 0.89277689 0.88252593 0.05770629 0.10917918]]\n"
     ]
    }
   ],
   "source": [
    "from numpy import random\n",
    "i=random.rand(3,5)\n",
    "print(i)"
   ]
  },
  {
   "cell_type": "code",
   "execution_count": 1,
   "metadata": {},
   "outputs": [
    {
     "name": "stdout",
     "output_type": "stream",
     "text": [
      "20\n"
     ]
    }
   ],
   "source": [
    "from numpy import random\n",
    "list1 = [10,20,30,40,50,60,70,80,90]\n",
    "i=random.choice(list1)\n",
    "print(i)"
   ]
  },
  {
   "cell_type": "code",
   "execution_count": 2,
   "metadata": {},
   "outputs": [
    {
     "name": "stdout",
     "output_type": "stream",
     "text": [
      "[[50 10 70 60 20]\n",
      " [30 40 30 40 50]\n",
      " [20 50 60 50 20]]\n"
     ]
    }
   ],
   "source": [
    "from numpy import random\n",
    "list1 = [10,20,30,40,50,60,70]\n",
    "i = random.choice(list1, size=(3, 5))\n",
    "print(i)"
   ]
  },
  {
   "cell_type": "code",
   "execution_count": 3,
   "metadata": {},
   "outputs": [
    {
     "name": "stdout",
     "output_type": "stream",
     "text": [
      "[[[20 50]\n",
      "  [50 70]\n",
      "  [60 60]\n",
      "  [70 10]\n",
      "  [60 60]]\n",
      "\n",
      " [[70 50]\n",
      "  [60 30]\n",
      "  [50 60]\n",
      "  [10 70]\n",
      "  [60 70]]\n",
      "\n",
      " [[60 40]\n",
      "  [60 70]\n",
      "  [10 60]\n",
      "  [10 70]\n",
      "  [10 70]]]\n"
     ]
    }
   ],
   "source": [
    "from numpy import random\n",
    "list1 = [10,20,30,40,50,60,70]\n",
    "i = random.choice(list1, size=(3, 5, 2))\n",
    "print(i)"
   ]
  },
  {
   "cell_type": "code",
   "execution_count": null,
   "metadata": {},
   "outputs": [],
   "source": []
  }
 ],
 "metadata": {
  "kernelspec": {
   "display_name": "Python 3",
   "language": "python",
   "name": "python3"
  },
  "language_info": {
   "codemirror_mode": {
    "name": "ipython",
    "version": 3
   },
   "file_extension": ".py",
   "mimetype": "text/x-python",
   "name": "python",
   "nbconvert_exporter": "python",
   "pygments_lexer": "ipython3",
   "version": "3.8.5"
  }
 },
 "nbformat": 4,
 "nbformat_minor": 4
}
